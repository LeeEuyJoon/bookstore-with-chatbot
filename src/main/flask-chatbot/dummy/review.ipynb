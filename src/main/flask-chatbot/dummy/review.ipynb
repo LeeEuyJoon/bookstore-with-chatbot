{
 "cells": [
  {
   "cell_type": "code",
   "execution_count": 2,
   "metadata": {},
   "outputs": [
    {
     "name": "stdout",
     "output_type": "stream",
     "text": [
      "Collecting mysql-connector-python\n",
      "  Downloading mysql_connector_python-9.0.0-cp312-cp312-macosx_13_0_arm64.whl.metadata (2.0 kB)\n",
      "Downloading mysql_connector_python-9.0.0-cp312-cp312-macosx_13_0_arm64.whl (13.4 MB)\n",
      "\u001b[2K   \u001b[90m━━━━━━━━━━━━━━━━━━━━━━━━━━━━━━━━━━━━━━━━\u001b[0m \u001b[32m13.4/13.4 MB\u001b[0m \u001b[31m6.2 MB/s\u001b[0m eta \u001b[36m0:00:00\u001b[0m00:01\u001b[0m00:01\u001b[0m\n",
      "\u001b[?25hInstalling collected packages: mysql-connector-python\n",
      "Successfully installed mysql-connector-python-9.0.0\n",
      "Collecting faker\n",
      "  Downloading Faker-28.4.1-py3-none-any.whl.metadata (15 kB)\n",
      "Requirement already satisfied: python-dateutil>=2.4 in /opt/anaconda3/lib/python3.12/site-packages (from faker) (2.9.0.post0)\n",
      "Requirement already satisfied: six>=1.5 in /opt/anaconda3/lib/python3.12/site-packages (from python-dateutil>=2.4->faker) (1.16.0)\n",
      "Downloading Faker-28.4.1-py3-none-any.whl (1.8 MB)\n",
      "\u001b[2K   \u001b[90m━━━━━━━━━━━━━━━━━━━━━━━━━━━━━━━━━━━━━━━━\u001b[0m \u001b[32m1.8/1.8 MB\u001b[0m \u001b[31m19.0 MB/s\u001b[0m eta \u001b[36m0:00:00\u001b[0ma \u001b[36m0:00:01\u001b[0m\n",
      "\u001b[?25hInstalling collected packages: faker\n",
      "Successfully installed faker-28.4.1\n"
     ]
    }
   ],
   "source": [
    "!pip install mysql-connector-python\n",
    "!pip install faker"
   ]
  },
  {
   "cell_type": "code",
   "execution_count": 16,
   "metadata": {},
   "outputs": [
    {
     "name": "stdout",
     "output_type": "stream",
     "text": [
      "Collecting pymysql\n",
      "  Using cached PyMySQL-1.1.1-py3-none-any.whl.metadata (4.4 kB)\n",
      "Using cached PyMySQL-1.1.1-py3-none-any.whl (44 kB)\n",
      "Installing collected packages: pymysql\n",
      "Successfully installed pymysql-1.1.1\n"
     ]
    }
   ],
   "source": [
    "!pip install pymysql"
   ]
  },
  {
   "cell_type": "code",
   "execution_count": 1,
   "metadata": {},
   "outputs": [
    {
     "name": "stdout",
     "output_type": "stream",
     "text": [
      "더미 데이터 생성 완료!\n"
     ]
    }
   ],
   "source": [
    "import mysql.connector\n",
    "from faker import Faker\n",
    "import random\n",
    "\n",
    "# MySQL 데이터베이스 연결 설정\n",
    "db = mysql.connector.connect(\n",
    "    host=\"localhost\",    # MySQL 서버 주소\n",
    "    port=3306,           # MySQL 기본 포트 번호\n",
    "    user=\"root\",   # MySQL 사용자 이름\n",
    "    password=\"@\", # MySQL 비밀번호\n",
    "    database=\"no1\"  # 사용할 데이터베이스 이름\n",
    ")\n",
    "\n",
    "cursor = db.cursor()\n",
    "\n",
    "# Faker 초기화 (한국어 로케일)\n",
    "fake = Faker('ko_KR')\n",
    "\n",
    "# 제품(prod_id) 범위 설정\n",
    "prod_ids = [f'prod{i}' for i in range(1, 465)]\n",
    "\n",
    "# 고객(cust_id) 설정\n",
    "cust_ids = [f'cust{j}' for j in range(1, 1000)]  # cust1~cust999까지 생성\n",
    "\n",
    "# 더미 리뷰 데이터 생성 함수 (리뷰 내용은 한국어 catch_phrase로 생성)\n",
    "def generate_review(prod_id, cust_id):\n",
    "    content = fake.catch_phrase()  # 한국어로 짧은 문구 생성\n",
    "    rcmd_count = random.randint(0, 50)  # 추천 수는 0~50 사이\n",
    "    cre_date = fake.date_this_year().strftime('%Y-%m-%d %H:%M:%S')  # 올해 생성 날짜\n",
    "    reg_date = cre_date  # 등록 날짜는 생성 날짜와 동일\n",
    "    reg_id = cust_id  # 등록자는 리뷰 작성자\n",
    "    up_date = reg_date  # 업데이트 날짜도 초기에는 등록 날짜와 동일\n",
    "    up_id = cust_id  # 업데이트한 사용자도 리뷰 작성자로 설정\n",
    "    star_pt = random.randint(1, 5)  # 평점은 1~5 사이\n",
    "    sentiment = random.choice(['positive', 'negative','pending'])  # 감정 분석 상태\n",
    "    # sentiment = random.choice(['positive', 'negative'])  # 감정 분석 상태\n",
    "    # sentiment = 'pending'\n",
    "\n",
    "    # SQL 쿼리 생성\n",
    "    sql = \"\"\"\n",
    "    INSERT INTO review (prod_id, cust_id, content, rcmd_count, cre_date, reg_date, reg_id, up_date, up_id, star_pt, sentiment)\n",
    "    VALUES (%s, %s, %s, %s, %s, %s, %s, %s, %s, %s, %s)\n",
    "    \"\"\"\n",
    "    values = (prod_id, cust_id, content, rcmd_count, cre_date, reg_date, reg_id, up_date, up_id, star_pt, sentiment)\n",
    "    return sql, values\n",
    "\n",
    "# 리뷰 테이블의 기존 데이터를 모두 삭제하는 쿼리\n",
    "cursor.execute(\"DELETE FROM review\")\n",
    "db.commit()\n",
    "\n",
    "# 각 제품에 대해 2~6개의 리뷰 생성\n",
    "for prod_id in prod_ids:\n",
    "    num_reviews = random.randint(2, 9)  # 각 제품마다 2~6개의 리뷰 생성\n",
    "    for _ in range(num_reviews):\n",
    "        cust_id = random.choice(cust_ids)  # 고객 ID를 랜덤으로 선택\n",
    "        sql, values = generate_review(prod_id, cust_id)\n",
    "        cursor.execute(sql, values)\n",
    "\n",
    "# 변경사항 저장\n",
    "db.commit()\n",
    "\n",
    "# 커서 및 연결 종료\n",
    "cursor.close()\n",
    "db.close()\n",
    "\n",
    "print(\"더미 데이터 생성 완료!\")"
   ]
  },
  {
   "cell_type": "code",
   "execution_count": null,
   "metadata": {},
   "outputs": [],
   "source": []
  }
 ],
 "metadata": {
  "kernelspec": {
   "display_name": "base",
   "language": "python",
   "name": "python3"
  },
  "language_info": {
   "codemirror_mode": {
    "name": "ipython",
    "version": 3
   },
   "file_extension": ".py",
   "mimetype": "text/x-python",
   "name": "python",
   "nbconvert_exporter": "python",
   "pygments_lexer": "ipython3",
   "version": "3.12.4"
  }
 },
 "nbformat": 4,
 "nbformat_minor": 2
}
